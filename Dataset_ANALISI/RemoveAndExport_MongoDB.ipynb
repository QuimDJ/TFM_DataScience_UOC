{
 "cells": [
  {
   "cell_type": "code",
   "execution_count": null,
   "metadata": {},
   "outputs": [],
   "source": []
  },
  {
   "cell_type": "markdown",
   "metadata": {},
   "source": [
    "<div style=\"width: 100%; clear: both;\">\n",
    "<div style=\"float: left; width: 50%;\">\n",
    "<img src=\"http://www.uoc.edu/portal/_resources/common/imatges/marca_UOC/UOC_Masterbrand.jpg\", align=\"left\">\n",
    "</div>\n",
    "<div style=\"float: right; width: 50%;\">\n",
    "    <p style=\"margin: 0; padding-top: 22px; text-align:right;\"><b>Treball de Final de Màster </b></p>\n",
    "<p style=\"margin: 0; text-align:right;\"><b>ANÀLISI DEL DIA MUNDIAL DE LES MALALTIES MINORITÀRIES (Font de dades: TWITTER)</b>.</p>\n",
    "</div>\n",
    "</div>\n",
    "<div style=\"width:100%;\">&nbsp;</div>\n",
    "\n",
    "\n",
    "# PAC 3: Disseny i Implementació del TFM."
   ]
  },
  {
   "cell_type": "markdown",
   "metadata": {},
   "source": [
    "# TEST CONNEXIÓ A LA BASE DE DADES MONGO DB\n",
    "<p style=\"color:#0000FF\">\n",
    "Codi per l'esborrat de dades del servidor MongoDB, i per l'exportació de consultes amb emmagatzemament en formats CSV, XLS i PKL.\n",
    "</p>"
   ]
  },
  {
   "cell_type": "markdown",
   "metadata": {},
   "source": [
    "<div style=\"text-align:right\">\n",
    "    <span style=\"font-family:calibri;font-size:8;color:white; background-color:Crimson; text-align:right; margin-left: 0.5cm;padding:0.3cm\"> Autor: </span>\n",
    "    <span style=\"font-family:calibri;font-size:8;color:white; background-color:RoyalBlue; text-align:center;  margin-right: 0.5cm; padding:0.3cm\"><b> Joaquim de Dalmases Juanet </b></span>\n",
    "</div>"
   ]
  },
  {
   "cell_type": "code",
   "execution_count": null,
   "metadata": {},
   "outputs": [],
   "source": [
    "\"\"\"\n",
    "Created on Mon Apr 20 16:53:08 2020\n",
    "\n",
    "@author: Quim de Dalmases\n",
    "Projecte: Anàlisi del Dia Mundial de les Malalties Minoritàries.\n",
    "Objectiu: Poder eliminar documents de la base de dades Mongo DB.\n",
    "Implementació: Eliminació per filtre.\n",
    "Framework: Spyder (Anaconda Framework)\n",
    "Codi: Python v 3.8\n",
    "\n",
    "\"\"\"\n",
    "# càrrega del mòdul de client MongoDB de la llibreria pymongo\n",
    "from pymongo import MongoClient\n",
    "\n",
    "# Necessita tenir instal·lat la llibreria python: PyMongo\n",
    "# https://api.mongodb.com/python/current\n",
    "\n",
    "# Cadena de connexió: Server, port, tipus de rèplica a la que ens connectem (primària, secundària, ...), \n",
    "# nom d'aplicació i protocol\n",
    "client = MongoClient('mongodb://localhost:27017/?readPreference=primary&appname=MongoDB%20Compass&ssl=false')\n",
    "#filter={\"$or\":[{\"created_at\":{\"$regex\":\"Sun Mar 01 00\"}}, {\"created_at\":{\"$regex\":\"Sun Mar 01 01\"}},{\"created_at\":{\"$regex\":\"Sun Mar 01 02\"}}, {\"created_at\":{\"$regex\":\"Sun Mar 01 03\"}}]}\n",
    "#{\"$or\":[{\"created_at\":{\"$regex\":\"Fri Feb 28 00\"}},{\"created_at\":{\"$regex\":\"Fri Feb 28 01\"}},{\"created_at\":{\"$regex\":\"Fri Feb 28 02\"}},{\"created_at\":{\"$regex\":\"Fri Feb 28 03\"}},{\"created_at\":{\"$regex\":\"Fri Feb 28 04\"}},{\"created_at\":{\"$regex\":\"Fri Feb 28 05\"}},{\"created_at\":{\"$regex\":\"Fri Feb 28 06\"}},{\"created_at\":{\"$regex\":\"Fri Feb 28 07\"}},{\"created_at\":{\"$regex\":\"Fri Feb 28 08\"}},{\"created_at\":{\"$regex\":\"Fri Feb 28 09\"}},{\"created_at\":{\"$regex\":\"Fri Feb 28 10\"}},{\"created_at\":{\"$regex\":\"Fri Feb 28 11\"}},{\"created_at\":{\"$regex\":\"Fri Feb 28 12\"}}]}\n",
    "\n",
    "\n",
    "filter={\"$or\":[{\"created_at\":{\"$regex\":\"Sun Mar 01 13\"}},{\"created_at\":{\"$regex\":\"Sun Mar 01 14\"}}, \\\n",
    "               {\"created_at\":{\"$regex\":\"Sun Mar 01 15\"}},{\"created_at\":{\"$regex\":\"Sun Mar 01 16\"}}, \\\n",
    "               {\"created_at\":{\"$regex\":\"Sun Mar 01 17\"}}, {\"created_at\":{\"$regex\":\"Sun Mar 01 18\"}}, \\\n",
    "               {\"created_at\":{\"$regex\":\"Sun Mar 01 19\"}}]}\n",
    "\n",
    "result = client['DM_MM2020']['Twitter'].delete_many(filter)"
   ]
  },
  {
   "cell_type": "code",
   "execution_count": 6,
   "metadata": {},
   "outputs": [
    {
     "name": "stdout",
     "output_type": "stream",
     "text": [
      "#Temps de Consulta sobre tots els tuits de la base de dades: \n",
      " Durada:  0 minut/s  0 segons.\n",
      "#Temps de generació del dataframe: \n",
      " Durada:  0 minut/s  18 segons.\n",
      "#Temps d'exportació a format Pickle: \n",
      " Durada:  0 minut/s  14 segons.\n",
      "#Temps d'exportació a format CSV: \n",
      " Durada:  0 minut/s  22 segons.\n",
      "#Temps d'exportació a format Excel: \n",
      " Durada:  1 minut/s  42 segons.\n"
     ]
    }
   ],
   "source": [
    "from pymongo import MongoClient\n",
    "# pprint library is used to make the output look more pretty\n",
    "#from pprint import pprint\n",
    "# connect to MongoDB, change the << MONGODB URL >> to reflect your own connection string\n",
    "#client = MongoClient(\"mongodb://localhost:7017/?readPreference=primary&appname=py&ssl=false\")\n",
    "\n",
    "# Requires the PyMongo package.\n",
    "# https://api.mongodb.com/python/current\n",
    "\n",
    "import json\n",
    "import pickle\n",
    "import pandas as pd\n",
    "import time\n",
    "\n",
    "# Connexió al servidor de dades\n",
    "client = MongoClient(\"mongodb://localhost:27017/?readPreference=primary&appname=py&ssl=false\")\n",
    "\n",
    "# No definim un filtre, perque es un backup de tota la base de dades.\n",
    "filter={}\n",
    "\n",
    "# Projecció de camps que volem en la sortida.\n",
    "project={\"_id\":1,\"contributors\":1,\"coordinates\":1,\"created_at\":1,\"display_text_range\":1, \\\n",
    "         \"entities\":1,\"extended_entities\":1,\"extended_tweet\":1,\"favorite_count\":1,\"favorited\":1, \\\n",
    "         \"filter_level\":1,\"geo\":1,\"id\":1,\"id_str\":1,\"in_reply_to_screen_name\":1,\"in_reply_to_status_id\":1, \\\n",
    "         \"in_reply_to_status_id_str\":1,\"in_reply_to_user_id\":1,\"in_reply_to_user_id_str\":1,\"is_quote_status\":1, \\\n",
    "         \"lang\":1,\"place\":1,\"possibly_sensitive\":1,\"quote_count\":1,\"quoted_status\":1,\"quoted_status_id\":1, \\\n",
    "         \"quoted_status_id_str\":1,\"quoted_status_permalink\":1,\"reply_count\":1,\"retweet_count\":1,\"retweeted\":1, \\\n",
    "         \"retweeted_status\":1,\"source\":1,\"text\":1,\"timestamp_ms\":1,\"truncated\":1}\n",
    "\n",
    "time_start = time.time()\n",
    "# Executem la consulta\n",
    "result = client['DM_MM2020']['Twitter'].find(filter=filter, projection=project)\n",
    "\n",
    "# 'temps' registra el temps parcial de realitzar la consulta.\n",
    "temps=(time.time()-time_start)/60\n",
    "print(\"#Temps de Consulta sobre tots els tuits de la base de dades:\",\"\\n Durada: \",int(temps) if temps>0 else 0,\"minut/s \", \\\n",
    "      int((temps-int(temps))*60),\"segons.\")\n",
    "\n",
    "time_start = time.time()\n",
    "# Definició d'un dataframe amb el contingut de la consulta\n",
    "df = pd.DataFrame.from_records(result)\n",
    "temps=(time.time()-time_start)/60\n",
    "print(\"#Temps de generació del dataframe:\",\"\\n Durada: \",int(temps) if temps>0 else 0,\"minut/s \", \\\n",
    "      int((temps-int(temps))*60),\"segons.\")\n",
    "\n",
    "# Notació del nom del fitxer de backup\n",
    "nom_fitxer=\"backup_DM_MM2020\"\n",
    "\n",
    "time_start = time.time()\n",
    "# Exportació en format pickle:\n",
    "df.to_pickle('{}.pkl'.format(nom_fitxer))\n",
    "temps=(time.time()-time_start)/60\n",
    "print(\"#Temps d'exportació a format Pickle:\",\"\\n Durada: \",int(temps) if temps>0 else 0,\"minut/s \", \\\n",
    "      int((temps-int(temps))*60),\"segons.\")\n",
    "\n",
    "time_start = time.time()\n",
    "# Exportació en format CSV:\n",
    "df.to_csv ('{}.csv'.format(nom_fitxer), index = False, header=True)\n",
    "temps=(time.time()-time_start)/60\n",
    "print(\"#Temps d'exportació a format CSV:\",\"\\n Durada: \",int(temps) if temps>0 else 0,\"minut/s \", \\\n",
    "      int((temps-int(temps))*60),\"segons.\")\n",
    "\n",
    "time_start = time.time()\n",
    "# Exportació en fitxer Excel:\n",
    "df.to_excel('{}.xlsx'.format(nom_fitxer), index=0)\n",
    "temps=(time.time()-time_start)/60\n",
    "print(\"#Temps d'exportació a format Excel:\",\"\\n Durada: \",int(temps) if temps>0 else 0,\"minut/s \", \\\n",
    "      int((temps-int(temps))*60),\"segons.\")\n"
   ]
  },
  {
   "cell_type": "code",
   "execution_count": 7,
   "metadata": {},
   "outputs": [
    {
     "name": "stdout",
     "output_type": "stream",
     "text": [
      " El volumen de la unidad C es OS\n",
      " El número de serie del volumen es: AA94-59FC\n",
      "\n",
      " Directorio de C:\\Users\\qdeda\\TFM_Code\n",
      "\n",
      "06/05/2020  10:02       593.917.922 backup_DM_MM2020.csv\n",
      "06/05/2020  10:02       553.250.169 backup_DM_MM2020.pkl\n",
      "06/05/2020  10:04        79.716.167 backup_DM_MM2020.xlsx\n",
      "               3 archivos  1.226.884.258 bytes\n",
      "               0 dirs  327.853.834.240 bytes libres\n"
     ]
    }
   ],
   "source": [
    "!dir backup_DM_MM2020.*"
   ]
  },
  {
   "cell_type": "code",
   "execution_count": null,
   "metadata": {},
   "outputs": [],
   "source": []
  }
 ],
 "metadata": {
  "kernelspec": {
   "display_name": "Python 3",
   "language": "python",
   "name": "python3"
  },
  "language_info": {
   "codemirror_mode": {
    "name": "ipython",
    "version": 3
   },
   "file_extension": ".py",
   "mimetype": "text/x-python",
   "name": "python",
   "nbconvert_exporter": "python",
   "pygments_lexer": "ipython3",
   "version": "3.7.4"
  }
 },
 "nbformat": 4,
 "nbformat_minor": 4
}
