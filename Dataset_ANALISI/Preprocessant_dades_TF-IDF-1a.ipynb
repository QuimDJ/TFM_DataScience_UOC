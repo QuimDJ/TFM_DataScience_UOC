{
 "cells": [
  {
   "cell_type": "markdown",
   "metadata": {},
   "source": [
    "<div style=\"width: 100%; clear: both;\">\n",
    "<div style=\"float: left; width: 50%;\">\n",
    "<img src=\"http://www.uoc.edu/portal/_resources/common/imatges/marca_UOC/UOC_Masterbrand.jpg\", align=\"left\">\n",
    "</div>\n",
    "<div style=\"float: right; width: 50%;\">\n",
    "    <p style=\"margin: 0; padding-top: 22px; text-align:right;\"><b>Treball de Final de Màster </b></p>\n",
    "<p style=\"margin: 0; text-align:right;\"><b>ANÀLISI DEL DIA MUNDIAL DE LES MALALTIES MINORITÀRIES (Font de dades: TWITTER)</b>.</p>\n",
    "</div>\n",
    "</div>\n",
    "<div style=\"width:100%;\">&nbsp;</div>\n",
    "\n",
    "\n",
    "# PAC 3: Disseny i Implementació del TFM."
   ]
  },
  {
   "cell_type": "markdown",
   "metadata": {},
   "source": [
    "# PREPROCESSAT i 'FEATURE ENGINEERING' DEL DATASET DE DADES: \n",
    "<p style=\"color:#0000FF\">\n",
    "En aquest Jupyter Notebook, es recullen les proves amb TF-IDF. Millora de\n",
    "    Bag of Words. Revisió del recompte i càlcul del factor IDF.\n",
    "</p>"
   ]
  },
  {
   "cell_type": "markdown",
   "metadata": {},
   "source": [
    "<div style=\"text-align:right\">\n",
    "    <span style=\"font-family:calibri;font-size:8;color:white; background-color:Crimson; text-align:right; margin-left: 0.5cm;padding:0.3cm\"> Autor: </span>\n",
    "    <span style=\"font-family:calibri;font-size:8;color:white; background-color:RoyalBlue; text-align:center;  margin-right: 0.5cm; padding:0.3cm\"><b> Joaquim de Dalmases Juanet </b></span>\n",
    "</div>"
   ]
  },
  {
   "cell_type": "code",
   "execution_count": 2,
   "metadata": {},
   "outputs": [],
   "source": [
    "import pandas as pd\n",
    "import numpy as np\n",
    "import nltk\n",
    "from nltk.corpus import stopwords\n",
    "from nltk.tokenize import word_tokenize, sent_tokenize, WordPunctTokenizer, RegexpTokenizer, TweetTokenizer\n",
    "from nltk.tokenize import RegexpTokenizer\n",
    "from nltk.stem.lancaster import LancasterStemmer\n",
    "from datetime import datetime\n",
    "from datetime import timedelta  \n",
    "import string\n",
    "import re, collections\n",
    "import time\n",
    "from textblob import TextBlob\n",
    "import codecs\n",
    "import json\n",
    "import emoji\n",
    "import gensim\n",
    "from sklearn.feature_extraction.text import CountVectorizer, TfidfTransformer, TfidfVectorizer\n",
    "from sklearn.feature_extraction import DictVectorizer\n",
    "import matplotlib.pyplot as plt\n",
    "from PIL import Image\n",
    "from wordcloud import WordCloud, STOPWORDS\n",
    "from IPython.display import Image as im"
   ]
  },
  {
   "cell_type": "code",
   "execution_count": 4,
   "metadata": {},
   "outputs": [
    {
     "name": "stdout",
     "output_type": "stream",
     "text": [
      "#Total de tuits: 98433 \n",
      " Durada:  0 minut/s  24 segons.\n"
     ]
    }
   ],
   "source": [
    "# Càrrega del dataset generat en la fase de preprocessat.\n",
    "time_start = time.time()\n",
    "dataset=pd.read_excel(\"DMMM_Dataset_final.xlsx\")\n",
    "temps=(time.time()-time_start)/60\n",
    "print(\"#Total de tuits:\",dataset.shape[0],\"\\n Durada: \",int(temps) if temps>0 else 0,\"minut/s \", \\\n",
    "      int((temps-int(temps))*60),\"segons.\")"
   ]
  },
  {
   "cell_type": "code",
   "execution_count": 3,
   "metadata": {},
   "outputs": [
    {
     "data": {
      "text/html": [
       "<div>\n",
       "<style scoped>\n",
       "    .dataframe tbody tr th:only-of-type {\n",
       "        vertical-align: middle;\n",
       "    }\n",
       "\n",
       "    .dataframe tbody tr th {\n",
       "        vertical-align: top;\n",
       "    }\n",
       "\n",
       "    .dataframe thead th {\n",
       "        text-align: right;\n",
       "    }\n",
       "</style>\n",
       "<table border=\"1\" class=\"dataframe\">\n",
       "  <thead>\n",
       "    <tr style=\"text-align: right;\">\n",
       "      <th></th>\n",
       "      <th>Unnamed: 0</th>\n",
       "      <th>_id</th>\n",
       "      <th>created_at</th>\n",
       "      <th>text_x</th>\n",
       "      <th>text_net</th>\n",
       "      <th>text_Norm</th>\n",
       "      <th>diaSem</th>\n",
       "      <th>dia</th>\n",
       "      <th>mes</th>\n",
       "      <th>yy</th>\n",
       "      <th>...</th>\n",
       "      <th>user_idstr</th>\n",
       "      <th>user_friends_c</th>\n",
       "      <th>user_followers_c</th>\n",
       "      <th>user_listed_c</th>\n",
       "      <th>retweet_count</th>\n",
       "      <th>lang</th>\n",
       "      <th>polarity</th>\n",
       "      <th>subjectivity</th>\n",
       "      <th>emojis</th>\n",
       "      <th>text_y</th>\n",
       "    </tr>\n",
       "  </thead>\n",
       "  <tbody>\n",
       "    <tr>\n",
       "      <td>0</td>\n",
       "      <td>0</td>\n",
       "      <td>5e78e80f4e54db2148d19749</td>\n",
       "      <td>Thu Feb 13 09:58:19 +0000 2020</td>\n",
       "      <td>RT @FEDER_ONG: Las 29 obras ganadoras del conc...</td>\n",
       "      <td>feder_ong winning works photographic contest...</td>\n",
       "      <td>feder_ong win work photograph contest eresar...</td>\n",
       "      <td>Thursday</td>\n",
       "      <td>13</td>\n",
       "      <td>2</td>\n",
       "      <td>2020</td>\n",
       "      <td>...</td>\n",
       "      <td>4054806561</td>\n",
       "      <td>8</td>\n",
       "      <td>3</td>\n",
       "      <td>0</td>\n",
       "      <td>0</td>\n",
       "      <td>es</td>\n",
       "      <td>0.500000</td>\n",
       "      <td>0.750000</td>\n",
       "      <td>[]</td>\n",
       "      <td>RT @FEDER_ONG: The 29 winning works of the pho...</td>\n",
       "    </tr>\n",
       "    <tr>\n",
       "      <td>1</td>\n",
       "      <td>1</td>\n",
       "      <td>5e78e80f4e54db2148d1974a</td>\n",
       "      <td>Thu Feb 13 10:01:01 +0000 2020</td>\n",
       "      <td>📌 Esta tarde, a partir de las 21:00h, nuevo #C...</td>\n",
       "      <td>afternoon starting h new cronichat centered ...</td>\n",
       "      <td>afternoon start h new cronich cent enfermeda...</td>\n",
       "      <td>Thursday</td>\n",
       "      <td>13</td>\n",
       "      <td>2</td>\n",
       "      <td>2020</td>\n",
       "      <td>...</td>\n",
       "      <td>64270216</td>\n",
       "      <td>853</td>\n",
       "      <td>2104</td>\n",
       "      <td>31</td>\n",
       "      <td>0</td>\n",
       "      <td>es</td>\n",
       "      <td>0.068182</td>\n",
       "      <td>0.277273</td>\n",
       "      <td>['📌']</td>\n",
       "      <td>📌 This afternoon, starting at 21 :00h, new #Cr...</td>\n",
       "    </tr>\n",
       "  </tbody>\n",
       "</table>\n",
       "<p>2 rows × 26 columns</p>\n",
       "</div>"
      ],
      "text/plain": [
       "   Unnamed: 0                       _id                      created_at  \\\n",
       "0           0  5e78e80f4e54db2148d19749  Thu Feb 13 09:58:19 +0000 2020   \n",
       "1           1  5e78e80f4e54db2148d1974a  Thu Feb 13 10:01:01 +0000 2020   \n",
       "\n",
       "                                              text_x  \\\n",
       "0  RT @FEDER_ONG: Las 29 obras ganadoras del conc...   \n",
       "1  📌 Esta tarde, a partir de las 21:00h, nuevo #C...   \n",
       "\n",
       "                                            text_net  \\\n",
       "0    feder_ong winning works photographic contest...   \n",
       "1    afternoon starting h new cronichat centered ...   \n",
       "\n",
       "                                           text_Norm    diaSem  dia  mes  \\\n",
       "0    feder_ong win work photograph contest eresar...  Thursday   13    2   \n",
       "1    afternoon start h new cronich cent enfermeda...  Thursday   13    2   \n",
       "\n",
       "     yy  ...  user_idstr  user_friends_c  user_followers_c user_listed_c  \\\n",
       "0  2020  ...  4054806561               8                 3             0   \n",
       "1  2020  ...    64270216             853              2104            31   \n",
       "\n",
       "  retweet_count lang  polarity  subjectivity  emojis  \\\n",
       "0             0   es  0.500000      0.750000      []   \n",
       "1             0   es  0.068182      0.277273   ['📌']   \n",
       "\n",
       "                                              text_y  \n",
       "0  RT @FEDER_ONG: The 29 winning works of the pho...  \n",
       "1  📌 This afternoon, starting at 21 :00h, new #Cr...  \n",
       "\n",
       "[2 rows x 26 columns]"
      ]
     },
     "execution_count": 3,
     "metadata": {},
     "output_type": "execute_result"
    }
   ],
   "source": [
    "dataset.head(2)"
   ]
  },
  {
   "cell_type": "code",
   "execution_count": 4,
   "metadata": {},
   "outputs": [],
   "source": [
    "def fa_wordcloud(ftext,bkcolor='white',ample=15,alt=10):    \n",
    "    wordcloud = WordCloud(background_color=bkcolor).generate(ftext)\n",
    "    plt.figure(figsize=(ample,alt))\n",
    "    plt.imshow(wordcloud,interpolation='bilinear')\n",
    "    plt.axis(\"off\")\n",
    "    plt.show()"
   ]
  },
  {
   "cell_type": "code",
   "execution_count": 6,
   "metadata": {},
   "outputs": [
    {
     "data": {
      "text/plain": [
       "98433"
      ]
     },
     "execution_count": 6,
     "metadata": {},
     "output_type": "execute_result"
    }
   ],
   "source": [
    "#nombre de tuits\n",
    "tuits=list(dataset.text_net)\n",
    "len(tuits)"
   ]
  },
  {
   "cell_type": "code",
   "execution_count": 7,
   "metadata": {},
   "outputs": [
    {
     "data": {
      "text/plain": [
       "'  feder_ong winning works photographic contest eresarte form travelling exhibition tour geography espa'"
      ]
     },
     "execution_count": 7,
     "metadata": {},
     "output_type": "execute_result"
    }
   ],
   "source": [
    "tuits[0]"
   ]
  },
  {
   "cell_type": "code",
   "execution_count": 8,
   "metadata": {},
   "outputs": [],
   "source": [
    "cv = CountVectorizer()\n",
    "wc=cv.fit_transform(tuits)"
   ]
  },
  {
   "cell_type": "code",
   "execution_count": 9,
   "metadata": {},
   "outputs": [
    {
     "data": {
      "text/plain": [
       "(98433, 39251)"
      ]
     },
     "execution_count": 9,
     "metadata": {},
     "output_type": "execute_result"
    }
   ],
   "source": [
    "wc.shape"
   ]
  },
  {
   "cell_type": "code",
   "execution_count": 17,
   "metadata": {},
   "outputs": [],
   "source": [
    "tfidf_transformer=TfidfTransformer(smooth_idf=True,use_idf=True)"
   ]
  },
  {
   "cell_type": "code",
   "execution_count": 18,
   "metadata": {},
   "outputs": [
    {
     "data": {
      "text/plain": [
       "TfidfTransformer(norm='l2', smooth_idf=True, sublinear_tf=False, use_idf=True)"
      ]
     },
     "execution_count": 18,
     "metadata": {},
     "output_type": "execute_result"
    }
   ],
   "source": [
    "tfidf_transformer.fit(wc)"
   ]
  },
  {
   "cell_type": "code",
   "execution_count": 19,
   "metadata": {},
   "outputs": [
    {
     "data": {
      "text/html": [
       "<div>\n",
       "<style scoped>\n",
       "    .dataframe tbody tr th:only-of-type {\n",
       "        vertical-align: middle;\n",
       "    }\n",
       "\n",
       "    .dataframe tbody tr th {\n",
       "        vertical-align: top;\n",
       "    }\n",
       "\n",
       "    .dataframe thead th {\n",
       "        text-align: right;\n",
       "    }\n",
       "</style>\n",
       "<table border=\"1\" class=\"dataframe\">\n",
       "  <thead>\n",
       "    <tr style=\"text-align: right;\">\n",
       "      <th></th>\n",
       "      <th>idf_weights</th>\n",
       "    </tr>\n",
       "  </thead>\n",
       "  <tbody>\n",
       "    <tr>\n",
       "      <td>rarediseaseday</td>\n",
       "      <td>1.923264</td>\n",
       "    </tr>\n",
       "    <tr>\n",
       "      <td>rare</td>\n",
       "      <td>2.152886</td>\n",
       "    </tr>\n",
       "    <tr>\n",
       "      <td>day</td>\n",
       "      <td>2.514935</td>\n",
       "    </tr>\n",
       "    <tr>\n",
       "      <td>today</td>\n",
       "      <td>2.700182</td>\n",
       "    </tr>\n",
       "    <tr>\n",
       "      <td>disease</td>\n",
       "      <td>2.889772</td>\n",
       "    </tr>\n",
       "    <tr>\n",
       "      <td>...</td>\n",
       "      <td>...</td>\n",
       "    </tr>\n",
       "    <tr>\n",
       "      <td>gemmageo</td>\n",
       "      <td>11.803994</td>\n",
       "    </tr>\n",
       "    <tr>\n",
       "      <td>gemmachand</td>\n",
       "      <td>11.803994</td>\n",
       "    </tr>\n",
       "    <tr>\n",
       "      <td>profesorjmb</td>\n",
       "      <td>11.803994</td>\n",
       "    </tr>\n",
       "    <tr>\n",
       "      <td>proudrarediseasemommoment</td>\n",
       "      <td>11.803994</td>\n",
       "    </tr>\n",
       "    <tr>\n",
       "      <td>__</td>\n",
       "      <td>11.803994</td>\n",
       "    </tr>\n",
       "  </tbody>\n",
       "</table>\n",
       "<p>39251 rows × 1 columns</p>\n",
       "</div>"
      ],
      "text/plain": [
       "                           idf_weights\n",
       "rarediseaseday                1.923264\n",
       "rare                          2.152886\n",
       "day                           2.514935\n",
       "today                         2.700182\n",
       "disease                       2.889772\n",
       "...                                ...\n",
       "gemmageo                     11.803994\n",
       "gemmachand                   11.803994\n",
       "profesorjmb                  11.803994\n",
       "proudrarediseasemommoment    11.803994\n",
       "__                           11.803994\n",
       "\n",
       "[39251 rows x 1 columns]"
      ]
     },
     "execution_count": 19,
     "metadata": {},
     "output_type": "execute_result"
    }
   ],
   "source": [
    "# print idf values\n",
    "df_idf = pd.DataFrame(tfidf_transformer.idf_, index=cv.get_feature_names(),columns=[\"idf_weights\"])\n",
    " \n",
    "# sort ascending\n",
    "df_idf.sort_values(by=['idf_weights'])"
   ]
  },
  {
   "cell_type": "code",
   "execution_count": 20,
   "metadata": {},
   "outputs": [],
   "source": [
    "tf_idf_vector=tfidf_transformer.transform(wc)"
   ]
  },
  {
   "cell_type": "code",
   "execution_count": 24,
   "metadata": {},
   "outputs": [],
   "source": [
    "feature_names = cv.get_feature_names()\n",
    " \n",
    "#get tfidf vector for first document\n",
    "first_document_vector=tf_idf_vector[0]\n",
    " \n",
    "#print the scores\n",
    "df = pd.DataFrame(first_document_vector.T.todense(), index=feature_names, columns=[\"tfidf\"])\n",
    "df1=df.sort_values(by=[\"tfidf\"],ascending=False)"
   ]
  },
  {
   "cell_type": "code",
   "execution_count": 27,
   "metadata": {},
   "outputs": [
    {
     "data": {
      "text/html": [
       "<div>\n",
       "<style scoped>\n",
       "    .dataframe tbody tr th:only-of-type {\n",
       "        vertical-align: middle;\n",
       "    }\n",
       "\n",
       "    .dataframe tbody tr th {\n",
       "        vertical-align: top;\n",
       "    }\n",
       "\n",
       "    .dataframe thead th {\n",
       "        text-align: right;\n",
       "    }\n",
       "</style>\n",
       "<table border=\"1\" class=\"dataframe\">\n",
       "  <thead>\n",
       "    <tr style=\"text-align: right;\">\n",
       "      <th></th>\n",
       "      <th>tfidf</th>\n",
       "    </tr>\n",
       "  </thead>\n",
       "  <tbody>\n",
       "    <tr>\n",
       "      <td>geography</td>\n",
       "      <td>0.374200</td>\n",
       "    </tr>\n",
       "    <tr>\n",
       "      <td>espa</td>\n",
       "      <td>0.374200</td>\n",
       "    </tr>\n",
       "    <tr>\n",
       "      <td>travelling</td>\n",
       "      <td>0.355353</td>\n",
       "    </tr>\n",
       "    <tr>\n",
       "      <td>winning</td>\n",
       "      <td>0.316786</td>\n",
       "    </tr>\n",
       "    <tr>\n",
       "      <td>tour</td>\n",
       "      <td>0.291945</td>\n",
       "    </tr>\n",
       "    <tr>\n",
       "      <td>photographic</td>\n",
       "      <td>0.287174</td>\n",
       "    </tr>\n",
       "    <tr>\n",
       "      <td>contest</td>\n",
       "      <td>0.271266</td>\n",
       "    </tr>\n",
       "    <tr>\n",
       "      <td>eresarte</td>\n",
       "      <td>0.254702</td>\n",
       "    </tr>\n",
       "    <tr>\n",
       "      <td>form</td>\n",
       "      <td>0.242617</td>\n",
       "    </tr>\n",
       "    <tr>\n",
       "      <td>works</td>\n",
       "      <td>0.234266</td>\n",
       "    </tr>\n",
       "    <tr>\n",
       "      <td>exhibition</td>\n",
       "      <td>0.228015</td>\n",
       "    </tr>\n",
       "    <tr>\n",
       "      <td>feder_ong</td>\n",
       "      <td>0.146381</td>\n",
       "    </tr>\n",
       "  </tbody>\n",
       "</table>\n",
       "</div>"
      ],
      "text/plain": [
       "                 tfidf\n",
       "geography     0.374200\n",
       "espa          0.374200\n",
       "travelling    0.355353\n",
       "winning       0.316786\n",
       "tour          0.291945\n",
       "photographic  0.287174\n",
       "contest       0.271266\n",
       "eresarte      0.254702\n",
       "form          0.242617\n",
       "works         0.234266\n",
       "exhibition    0.228015\n",
       "feder_ong     0.146381"
      ]
     },
     "execution_count": 27,
     "metadata": {},
     "output_type": "execute_result"
    }
   ],
   "source": [
    "df1[df1.tfidf>0]"
   ]
  },
  {
   "cell_type": "code",
   "execution_count": 28,
   "metadata": {},
   "outputs": [
    {
     "data": {
      "text/plain": [
       "matrix([[0., 0., 0., ..., 0., 0., 0.]])"
      ]
     },
     "execution_count": 28,
     "metadata": {},
     "output_type": "execute_result"
    }
   ],
   "source": [
    "first_document_vector.todense()"
   ]
  },
  {
   "cell_type": "code",
   "execution_count": null,
   "metadata": {},
   "outputs": [],
   "source": []
  }
 ],
 "metadata": {
  "kernelspec": {
   "display_name": "Python 3",
   "language": "python",
   "name": "python3"
  },
  "language_info": {
   "codemirror_mode": {
    "name": "ipython",
    "version": 3
   },
   "file_extension": ".py",
   "mimetype": "text/x-python",
   "name": "python",
   "nbconvert_exporter": "python",
   "pygments_lexer": "ipython3",
   "version": "3.7.4"
  }
 },
 "nbformat": 4,
 "nbformat_minor": 4
}
